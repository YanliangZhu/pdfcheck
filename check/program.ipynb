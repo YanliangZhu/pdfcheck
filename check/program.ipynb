{
 "cells": [
  {
   "cell_type": "code",
   "execution_count": 1,
   "id": "6b881dd5",
   "metadata": {},
   "outputs": [
    {
     "data": {
      "text/plain": [
       "'\\nconda install -c conda-forge poppler\\npip install pdf2image\\npip install opencv-python\\n'"
      ]
     },
     "execution_count": 1,
     "metadata": {},
     "output_type": "execute_result"
    }
   ],
   "source": [
    "#installing dependents\n",
    "'''\n",
    "conda install -c conda-forge poppler\n",
    "pip install pdf2image\n",
    "pip install opencv-python\n",
    "'''"
   ]
  },
  {
   "cell_type": "code",
   "execution_count": 2,
   "id": "8298c850",
   "metadata": {},
   "outputs": [],
   "source": [
    "import pandas as pd\n",
    "import numpy as np\n",
    "from pdf2image import convert_from_path\n",
    "import cv2"
   ]
  },
  {
   "cell_type": "code",
   "execution_count": 3,
   "id": "a4056020",
   "metadata": {},
   "outputs": [],
   "source": [
    "#https://www.geeksforgeeks.org/convert-pdf-to-image-using-python/\n",
    "def PDF2image(filepath):\n",
    "    pages = convert_from_path(filepath, 100)\n",
    "    return pages"
   ]
  },
  {
   "cell_type": "code",
   "execution_count": 4,
   "id": "5ad7003e",
   "metadata": {},
   "outputs": [],
   "source": [
    "def imageCompare(image1, image2):\n",
    "    def mse(img1, img2):\n",
    "        h, w = img1.shape\n",
    "        diff = cv2.subtract(img1, img2)\n",
    "        err = np.sum(diff**2)\n",
    "        mse = err / (float(h*w))\n",
    "        return mse\n",
    "    \n",
    "    image1 = cv2.imread(image1)\n",
    "    image2 = cv2.imread(image2)\n",
    "    image1 = cv2.cvtColor(image1, cv2.COLOR_BGR2GRAY)\n",
    "    image2 = cv2.cvtColor(image2, cv2.COLOR_BGR2GRAY)\n",
    "    error = mse(image1, image2)\n",
    "    return error"
   ]
  },
  {
   "cell_type": "code",
   "execution_count": 5,
   "id": "714ef00f",
   "metadata": {},
   "outputs": [
    {
     "name": "stdout",
     "output_type": "stream",
     "text": [
      "page 1 match: error=0.0\n",
      "issue with page 2: error=0.0006502673796791444\n",
      "page 3 match: error=0.0\n",
      "issue with page 4: error=0.005921925133689839\n",
      "issue with page 5: error=0.06581604278074867\n"
     ]
    },
    {
     "data": {
      "text/plain": [
       "True"
      ]
     },
     "execution_count": 5,
     "metadata": {},
     "output_type": "execute_result"
    }
   ],
   "source": [
    "def comparePDF(file1, file2):\n",
    "    # convert PDF2image\n",
    "    images1 = PDF2image(file1)\n",
    "    images2 = PDF2image(file2)\n",
    "    # creat df\n",
    "    col = {'file1':images1, \"file2\":images2}\n",
    "    try:\n",
    "        df_image = pd.DataFrame(col)\n",
    "        for i in range(len(df_image.index)):\n",
    "            df_image.loc[i, 'file1'].save('image1.jpg')\n",
    "            df_image.loc[i, 'file2'].save('image2.jpg')\n",
    "            error = imageCompare('image1.jpg', 'image2.jpg')\n",
    "            if error <= 0.00001:\n",
    "                print(f'page {i+1} match: error={error}')\n",
    "            else:\n",
    "                print(f'issue with page {i+1}: error={error}')\n",
    "        df_image.iloc[0:0] #clear df just in case\n",
    "        return True\n",
    "        \n",
    "    except:\n",
    "        #if page number differ\n",
    "        df_image.iloc[0:0] #clear df just in case\n",
    "        print('Page number does not match, or page size differ')\n",
    "        return False\n",
    "\n",
    "comparePDF(\"test1.pdf\",\"test2.pdf\")"
   ]
  }
 ],
 "metadata": {
  "kernelspec": {
   "display_name": "Python 3",
   "language": "python",
   "name": "python3"
  },
  "language_info": {
   "codemirror_mode": {
    "name": "ipython",
    "version": 3
   },
   "file_extension": ".py",
   "mimetype": "text/x-python",
   "name": "python",
   "nbconvert_exporter": "python",
   "pygments_lexer": "ipython3",
   "version": "3.8.8"
  }
 },
 "nbformat": 4,
 "nbformat_minor": 5
}
